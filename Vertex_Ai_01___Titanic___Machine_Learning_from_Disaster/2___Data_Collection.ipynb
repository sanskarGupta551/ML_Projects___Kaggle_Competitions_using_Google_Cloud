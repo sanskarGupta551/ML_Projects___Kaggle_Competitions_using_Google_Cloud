{
 "cells": [
  {
   "cell_type": "markdown",
   "metadata": {},
   "source": [
    "# **Data Collection** (#2)"
   ]
  },
  {
   "cell_type": "markdown",
   "metadata": {},
   "source": [
    "## **Overview**\n",
    "\n",
    "In this module we will perform - \n",
    "\n",
    "1. **Creating Bucket** - We will create a bucket to store our Dataset in Google Cloud Storage. \n",
    "\n",
    "2. **Data Collection** - We will collect data from `Kaggle` data source and store it in the bucket we created earlier. \n",
    "\n",
    "***"
   ]
  },
  {
   "cell_type": "markdown",
   "metadata": {},
   "source": [
    "## **1. Creating Bucket**\n",
    "\n",
    "* From the `Navigation Menu`, click on `Cloud Storage`.\n",
    "\n",
    "* Click on `Create Bucket`.\n",
    "\n",
    "* Name your bucket and click `continue`.\n",
    "\n",
    "* Click `Multi-region` and choose a region of your preference. Click `continue`.\n",
    "\n",
    "* Click on `Standard` in \"Set a Default Class\", then click `continue`.\n",
    "\n",
    "* Tick \"Enforce public access prevention on this bucket\". Click `Uniform` under Access control, then `continue`.\n",
    "\n",
    "* Tick `Soft Delete Policy` with Object retention period set to `7 days`, Tick `Object Versioning` then click `Create`.\n",
    "\n",
    "***"
   ]
  },
  {
   "cell_type": "markdown",
   "metadata": {},
   "source": [
    "## **2. Data Collection**\n",
    "\n",
    "* Download dataset from [Titanic - Machine Learning from Disaster](https://www.kaggle.com/competitions/titanic/data) by clicking on `Download All` button at the bottom. This will download a zip folder.\n",
    "\n",
    "* Extract all files in a seperate folder from the downloaded zip folder. This will generate 3 CSV files namely : `gender_submission`, `train` & `test` all within the seperate folder.\n",
    "\n",
    "* On the Bucket details page of your just created bucket, click `Upload Files` button.\n",
    "\n",
    "* Navigate to the folder with your downloaded files and upload them all.\n",
    "\n",
    "'''\n",
    "\n",
    "Now, we have completed our Data Collection. \n",
    "\n",
    "Note that in a production job environment, where data isn't as readily available, the Data Collection process is a lot more complicated than this. \n",
    "\n",
    "It might include steps such as - \n",
    "\n",
    "* Defining Data Requirement, Strategies, Sources as well as Legality\n",
    "\n",
    "* Collecting data with methods such as Web Scraping, etc.\n",
    "\n",
    "* Refining & Structuring usable data in a discrete format, \n",
    "\n",
    "and more.\n",
    "\n",
    "But since we are solving a competition with readily available data, Data Collection for us will only be as simple as we have done so far.\n",
    "\n",
    "***"
   ]
  },
  {
   "cell_type": "markdown",
   "metadata": {},
   "source": [
    "## **Next Step**\n",
    "\n",
    "* Next after Collecting data, we will `Prepare` our Data. This part includes - \n",
    "    * Data Transformation/ Pre-processing\n",
    "    * Data Profiling\n",
    "    * Data Validation\n",
    "\n",
    "* We will use `Google Dataprep` for this purpose.\n",
    "\n",
    "***\n",
    "***"
   ]
  },
  {
   "cell_type": "code",
   "execution_count": null,
   "metadata": {},
   "outputs": [],
   "source": []
  }
 ],
 "metadata": {
  "kernelspec": {
   "display_name": "Python 3",
   "language": "python",
   "name": "python3"
  },
  "language_info": {
   "codemirror_mode": {
    "name": "ipython",
    "version": 3
   },
   "file_extension": ".py",
   "mimetype": "text/x-python",
   "name": "python",
   "nbconvert_exporter": "python",
   "pygments_lexer": "ipython3",
   "version": "3.11.4"
  }
 },
 "nbformat": 4,
 "nbformat_minor": 2
}
