{
 "cells": [
  {
   "cell_type": "markdown",
   "metadata": {},
   "source": [
    "# **Data Preparation** (#3)"
   ]
  },
  {
   "cell_type": "markdown",
   "metadata": {},
   "source": [
    "## **Overview**\n",
    "\n",
    "In this module we will perform `Data Preparation` with steps such as - `Exploratory Data Analysis`, `Data Pre-processing`, `Data Profiling` and `Data Validation`.\n",
    "\n",
    "***"
   ]
  },
  {
   "cell_type": "markdown",
   "metadata": {},
   "source": [
    "## **Data Profiling**\n",
    "\n",
    "* Data profiling in Vertex AI typically involves understanding the characteristics of your dataset, such as the distribution of features, missing values, and outliers. While explicit profiling tools are not mentioned in the sources, the process often starts with exploratory data analysis (EDA) using tools like Vertex AI Workbench notebooks or third-party libraries in Python. These tools allow you to visualize and understand your data better before proceeding with model training.\n",
    "\n",
    "\n",
    "\n"
   ]
  },
  {
   "cell_type": "code",
   "execution_count": null,
   "metadata": {},
   "outputs": [],
   "source": []
  }
 ],
 "metadata": {
  "language_info": {
   "name": "python"
  }
 },
 "nbformat": 4,
 "nbformat_minor": 2
}
