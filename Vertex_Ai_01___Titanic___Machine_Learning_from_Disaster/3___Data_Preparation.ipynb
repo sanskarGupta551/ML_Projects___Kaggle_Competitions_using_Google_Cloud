{
 "cells": [
  {
   "cell_type": "markdown",
   "metadata": {},
   "source": [
    "# **Data Preparation** (#3)"
   ]
  },
  {
   "cell_type": "markdown",
   "metadata": {},
   "source": [
    "1. **Data Profiling** - \n",
    "\n",
    "2. **Data Pe-processing** - \n",
    "\n",
    "3. **Data Validation** - "
   ]
  },
  {
   "cell_type": "code",
   "execution_count": null,
   "metadata": {},
   "outputs": [],
   "source": []
  }
 ],
 "metadata": {
  "language_info": {
   "name": "python"
  }
 },
 "nbformat": 4,
 "nbformat_minor": 2
}
