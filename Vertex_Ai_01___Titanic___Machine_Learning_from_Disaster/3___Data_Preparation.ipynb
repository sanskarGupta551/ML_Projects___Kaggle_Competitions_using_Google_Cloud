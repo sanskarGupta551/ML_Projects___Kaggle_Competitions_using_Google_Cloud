{
 "cells": [
  {
   "cell_type": "markdown",
   "metadata": {},
   "source": [
    "# **Data Preparation** (#3)"
   ]
  },
  {
   "cell_type": "markdown",
   "metadata": {},
   "source": [
    "## **Overview**\n",
    "\n",
    "In this module we will perform `Data Preparation` with steps such as - `Data Profiling`, `Data Pre-processing` and `Data Validation`.\n",
    "\n",
    "***"
   ]
  },
  {
   "cell_type": "markdown",
   "metadata": {},
   "source": [
    "## **Google Dataprep**\n",
    "\n",
    "##### **Introduction**\n",
    "\n",
    "* \n",
    "\n",
    "##### **Workflow**\n",
    "\n",
    "Following is a Basic Cloud Dataprep Workflow - \n",
    "\n",
    "1. Import data. Integrate data from a variety of sources of data.\n",
    "\n",
    "2. Profile your data. Before, during, and after you transform your data, you can use the visual profiling tools to quickly analyze and make decisions about your data.\n",
    "\n",
    "3. Build transform recipes. Use the various views in the Transformer Page to build your transform recipes and preview the results on sampled data. See Transform Basics.\n",
    "\n",
    "4. Export Results. Export the generated results data for use outside of Cloud Dataprep. See Export Basics.\n",
    "\n",
    "***"
   ]
  },
  {
   "cell_type": "code",
   "execution_count": null,
   "metadata": {},
   "outputs": [],
   "source": []
  }
 ],
 "metadata": {
  "language_info": {
   "name": "python"
  }
 },
 "nbformat": 4,
 "nbformat_minor": 2
}
