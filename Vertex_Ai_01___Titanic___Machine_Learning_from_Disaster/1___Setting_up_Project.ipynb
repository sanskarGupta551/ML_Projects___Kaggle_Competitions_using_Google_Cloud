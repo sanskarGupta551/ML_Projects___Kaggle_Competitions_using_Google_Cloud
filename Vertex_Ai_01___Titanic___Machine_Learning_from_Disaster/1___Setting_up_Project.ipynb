{
 "cells": [
  {
   "cell_type": "markdown",
   "metadata": {},
   "source": [
    "# **Setting-up Project** : `Vertex Ai` (#1) <a id=\"1\"></a>"
   ]
  },
  {
   "cell_type": "markdown",
   "metadata": {},
   "source": [
    "## **Overview**\n",
    "\n",
    "In this module, we will - \n",
    "\n",
    "1. Learn about the `pre-requisites` of working on an `ML` problem on `Google Cloud Platform` (GCP).\n",
    "\n",
    "2. Create a new `ML` project on `GCP`.\n",
    "\n",
    "3. Set up our most needed `dependencies`, such as `Vertex Ai` and other development environment variables.\n",
    "\n",
    "4. Then wrap things up with other important know-hows for a `GCP ML project`.\n",
    "\n",
    "\n",
    "***"
   ]
  },
  {
   "cell_type": "markdown",
   "metadata": {},
   "source": [
    "## **Pre-requisites**\n",
    "\n",
    "There are a few pre-requisites to Creating and Setting-up an ML project on GCP - \n",
    "\n",
    "##### **1. Create an account at Google Cloud** :\n",
    "\n",
    "* Create an account using your Gmail at Google Cloud.\n",
    "\n",
    "##### **2. Enable Billing** : \n",
    "\n",
    "* Make sure billing is enabled at your account. This is necessary for using most GCP services, including Vertex AI.\n",
    "\n",
    "***"
   ]
  },
  {
   "cell_type": "markdown",
   "metadata": {},
   "source": [
    "## **Creating Project**\n",
    "\n",
    "Below are the steps to Create an ML project in `GCP` :\n",
    "\n",
    "1. Go to the [Manage resources](https://console.cloud.google.com/cloud-resource-manager?walkthrough_id=resource-manager--create-project&start_index=1#step_index=1) page in the Google Cloud console.\n",
    "\n",
    "2. On the `Select organization` drop-down list at the top of the page, select the organization resource in which you want to create a project. `If you are a free trial user, skip this step, as this list does not appear`.\n",
    "\n",
    "3. Click `Create Project`.\n",
    "\n",
    "4. In the `New Project` window that appears, enter a project name and select a billing account as applicable. A project name can contain only letters, numbers, single quotes, hyphens, spaces, or exclamation points, and must be between 4 and 30 characters.\n",
    "\n",
    "5. Enter the parent organization or folder resource in the `Location` box. That resource will be the hierarchical parent of the new project. If `No organization` is an option, you can select it to create your new project as the top level of its own resource hierarchy.\n",
    "\n",
    "6. When you're finished entering new project details, click `Create`.\n",
    "\n",
    "Now, you can find your `Project` under `Resources` within your assigned `Organization`.\n",
    "\n",
    "***"
   ]
  },
  {
   "cell_type": "markdown",
   "metadata": {},
   "source": [
    "## **Setting-up Project**\n",
    "\n",
    "Below are the steps to set-up our project for working with `Vertex Ai` :\n",
    "\n",
    "##### **Viewing created Project**\n",
    "\n",
    "1. Go to the [Google Cloud Console](https://console.cloud.google.com/).\n",
    "\n",
    "2. From the `Drop-down` (on the right side of `Google Cloud` Icon), select your `Project` by name.\n",
    "\n",
    "##### **Billing**\n",
    "\n",
    "3. From the `Navigation Menu` (`three lines` on the left side of `Google Cloud` Icon), select `Billing`.\n",
    "\n",
    "4. You might get this message : **\"This project has no billing account\"**. Click on `Link a Billing Account`.\n",
    "\n",
    "> Verify your Billing account if prompted. You only have to do this once.\n",
    "\n",
    "5. Select the Billing account and click `Set Account`.\n",
    "\n",
    "##### **APIs and Services**\n",
    "\n",
    "6. From the `Navigation Menu`, select `APIs and Services`.\n",
    "\n",
    "7. Click on `Enable APIs and Services`.\n",
    "\n",
    "8. In the search bar, type `Vertex Ai`. Click on `Vertex Ai API`. Click `Enable`.\n",
    "\n",
    "***"
   ]
  },
  {
   "cell_type": "markdown",
   "metadata": {},
   "source": [
    "## **Conclusion**\n",
    "\n",
    "* We have set-up the basics for our ML project, including - \n",
    "    * GCP Account, \n",
    "    * Created an ML Project, \n",
    "    * Set-up Billing, and \n",
    "    * APIs & Services.\n",
    "\n",
    "* We will continue for now with this basic Setup and add things as needed throughout the project.\n",
    "\n",
    "* In the next module, we will perform `Data Preparation`."
   ]
  },
  {
   "cell_type": "markdown",
   "metadata": {},
   "source": [
    "***\n",
    "***"
   ]
  },
  {
   "cell_type": "code",
   "execution_count": null,
   "metadata": {},
   "outputs": [],
   "source": []
  }
 ],
 "metadata": {
  "language_info": {
   "name": "python"
  }
 },
 "nbformat": 4,
 "nbformat_minor": 2
}
